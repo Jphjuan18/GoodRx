{
 "cells": [
  {
   "cell_type": "markdown",
   "metadata": {},
   "source": [
    "Objective: \n",
    "1) How many medications are available on GoodRx.com?\n",
    "2) How many pharmacies are available on GoodRx.com?\n",
    "3) Which pharmacy offers the best coupon through GoodRx.com?\n",
    "4) Get the average price of per drug\n",
    "5) What is the most expensive medication and least expensive medication?\n",
    "\n",
    "\n"
   ]
  },
  {
   "cell_type": "code",
   "execution_count": 302,
   "metadata": {},
   "outputs": [],
   "source": [
    "import pandas as pd\n",
    "import numpy as np\n",
    "import matplotlib.pyplot as plt\n"
   ]
  },
  {
   "cell_type": "code",
   "execution_count": 303,
   "metadata": {},
   "outputs": [],
   "source": [
    "#pip install openpyxl"
   ]
  },
  {
   "cell_type": "code",
   "execution_count": 304,
   "metadata": {},
   "outputs": [],
   "source": [
    "# Load dataset\n",
    "df = pd.read_excel(\"/Users/juanhernandez/Desktop/VS Code Python/Data/az_grx.xlsx\", index_col=0)"
   ]
  },
  {
   "cell_type": "code",
   "execution_count": 305,
   "metadata": {},
   "outputs": [
    {
     "data": {
      "text/plain": [
       "348"
      ]
     },
     "execution_count": 305,
     "metadata": {},
     "output_type": "execute_result"
    }
   ],
   "source": [
    "# 1) How many medications are available on GoodRx.com?\n",
    "uniqueDrugs = []\n",
    "\n",
    "for x in range(1,len(df)):\n",
    "\n",
    "    if df['Drug'][x] not in uniqueDrugs:\n",
    "        uniqueDrugs.append(df['Drug'][x])\n",
    "\n",
    "len(uniqueDrugs) #348 drugs are available"
   ]
  },
  {
   "cell_type": "code",
   "execution_count": 306,
   "metadata": {},
   "outputs": [],
   "source": [
    "#uniqueDrugs"
   ]
  },
  {
   "cell_type": "code",
   "execution_count": 307,
   "metadata": {},
   "outputs": [
    {
     "data": {
      "text/plain": [
       "12"
      ]
     },
     "execution_count": 307,
     "metadata": {},
     "output_type": "execute_result"
    }
   ],
   "source": [
    "# 2) How many pharmacies are available on GoodRx.com?\n",
    "uniquePharmacies = []\n",
    "\n",
    "for x in range(1,len(df)):\n",
    "\n",
    "    if df['Pharmacy'][x] not in uniquePharmacies:\n",
    "        uniquePharmacies.append(df['Pharmacy'][x])\n",
    "\n",
    "len(uniquePharmacies) #12 different pharmacies. Of note CVS is recorded as Target (CVS) and CVS Pharmacy"
   ]
  },
  {
   "cell_type": "code",
   "execution_count": 308,
   "metadata": {},
   "outputs": [],
   "source": [
    "#uniquePharmacies"
   ]
  },
  {
   "cell_type": "code",
   "execution_count": 346,
   "metadata": {},
   "outputs": [],
   "source": [
    "df_total = pd.DataFrame(columns=['Pharmacy','Total Price'])"
   ]
  },
  {
   "cell_type": "code",
   "execution_count": 347,
   "metadata": {},
   "outputs": [],
   "source": [
    "# 3) Which pharmacy offers the most $ value of coupons through GoodRx.com?\n",
    "\n",
    "for p in uniquePharmacies:\n",
    "    #print('--')\n",
    "    #print(p)\n",
    "    price_total = 0\n",
    "    \n",
    "    \n",
    "    for d in uniqueDrugs:\n",
    "    \n",
    "        try:\n",
    "            #print('--')\n",
    "            #print(d)      \n",
    "            \n",
    "            new_df = df[(df['Drug'] == d) & (df['Pharmacy'] == p)]       \n",
    "\n",
    "            if len(new_df['Price'].values) == 0: \n",
    "                continue\n",
    "                #print('No coupon')                \n",
    "            else:\n",
    "                #print(type(new_df['Price'].values))\n",
    "                #print(new_df['Price'].item())                \n",
    "                price_total = price_total + new_df['Price'].item()  \n",
    "                #print(price_total)\n",
    "                \n",
    "        except:\n",
    "                pass \n",
    "            \n",
    "\n",
    "    #print('Adding')\n",
    "    df_total.loc[p] = [p,price_total]\n"
   ]
  },
  {
   "cell_type": "code",
   "execution_count": 348,
   "metadata": {},
   "outputs": [],
   "source": [
    "df_total.reset_index(drop=True, inplace=True)"
   ]
  },
  {
   "cell_type": "code",
   "execution_count": 349,
   "metadata": {},
   "outputs": [
    {
     "data": {
      "text/html": [
       "<div>\n",
       "<style scoped>\n",
       "    .dataframe tbody tr th:only-of-type {\n",
       "        vertical-align: middle;\n",
       "    }\n",
       "\n",
       "    .dataframe tbody tr th {\n",
       "        vertical-align: top;\n",
       "    }\n",
       "\n",
       "    .dataframe thead th {\n",
       "        text-align: right;\n",
       "    }\n",
       "</style>\n",
       "<table border=\"1\" class=\"dataframe\">\n",
       "  <thead>\n",
       "    <tr style=\"text-align: right;\">\n",
       "      <th></th>\n",
       "      <th>Pharmacy</th>\n",
       "      <th>Total Price</th>\n",
       "    </tr>\n",
       "  </thead>\n",
       "  <tbody>\n",
       "    <tr>\n",
       "      <th>0</th>\n",
       "      <td>Walgreens</td>\n",
       "      <td>14574.64</td>\n",
       "    </tr>\n",
       "    <tr>\n",
       "      <th>1</th>\n",
       "      <td>Target (CVS)</td>\n",
       "      <td>13785.22</td>\n",
       "    </tr>\n",
       "    <tr>\n",
       "      <th>2</th>\n",
       "      <td>Walmart</td>\n",
       "      <td>13619.74</td>\n",
       "    </tr>\n",
       "    <tr>\n",
       "      <th>3</th>\n",
       "      <td>Safeway</td>\n",
       "      <td>1641.06</td>\n",
       "    </tr>\n",
       "    <tr>\n",
       "      <th>4</th>\n",
       "      <td>CVS Pharmacy</td>\n",
       "      <td>14294.49</td>\n",
       "    </tr>\n",
       "    <tr>\n",
       "      <th>5</th>\n",
       "      <td>Costco</td>\n",
       "      <td>12459.11</td>\n",
       "    </tr>\n",
       "    <tr>\n",
       "      <th>6</th>\n",
       "      <td>City Market</td>\n",
       "      <td>1585.28</td>\n",
       "    </tr>\n",
       "    <tr>\n",
       "      <th>7</th>\n",
       "      <td>Walmart Neighborhood Market</td>\n",
       "      <td>13564.76</td>\n",
       "    </tr>\n",
       "    <tr>\n",
       "      <th>8</th>\n",
       "      <td>King Soopers</td>\n",
       "      <td>1587.73</td>\n",
       "    </tr>\n",
       "    <tr>\n",
       "      <th>9</th>\n",
       "      <td>Hy-Vee</td>\n",
       "      <td>8327.18</td>\n",
       "    </tr>\n",
       "    <tr>\n",
       "      <th>10</th>\n",
       "      <td>Kroger Pharmacy</td>\n",
       "      <td>7249.74</td>\n",
       "    </tr>\n",
       "    <tr>\n",
       "      <th>11</th>\n",
       "      <td>Gerbes Pharmacy</td>\n",
       "      <td>7228.22</td>\n",
       "    </tr>\n",
       "  </tbody>\n",
       "</table>\n",
       "</div>"
      ],
      "text/plain": [
       "                       Pharmacy  Total Price\n",
       "0                     Walgreens     14574.64\n",
       "1                  Target (CVS)     13785.22\n",
       "2                       Walmart     13619.74\n",
       "3                       Safeway      1641.06\n",
       "4                  CVS Pharmacy     14294.49\n",
       "5                        Costco     12459.11\n",
       "6                   City Market      1585.28\n",
       "7   Walmart Neighborhood Market     13564.76\n",
       "8                  King Soopers      1587.73\n",
       "9                        Hy-Vee      8327.18\n",
       "10              Kroger Pharmacy      7249.74\n",
       "11              Gerbes Pharmacy      7228.22"
      ]
     },
     "execution_count": 349,
     "metadata": {},
     "output_type": "execute_result"
    }
   ],
   "source": [
    "df_total"
   ]
  },
  {
   "cell_type": "code",
   "execution_count": 355,
   "metadata": {},
   "outputs": [],
   "source": [
    "df_total.drop(index=[4], inplace=True) #Drop duplicate CVS Column"
   ]
  },
  {
   "cell_type": "code",
   "execution_count": 358,
   "metadata": {},
   "outputs": [],
   "source": [
    "df_total.reset_index(drop=True, inplace=True)"
   ]
  },
  {
   "cell_type": "code",
   "execution_count": 359,
   "metadata": {},
   "outputs": [
    {
     "data": {
      "text/html": [
       "<div>\n",
       "<style scoped>\n",
       "    .dataframe tbody tr th:only-of-type {\n",
       "        vertical-align: middle;\n",
       "    }\n",
       "\n",
       "    .dataframe tbody tr th {\n",
       "        vertical-align: top;\n",
       "    }\n",
       "\n",
       "    .dataframe thead th {\n",
       "        text-align: right;\n",
       "    }\n",
       "</style>\n",
       "<table border=\"1\" class=\"dataframe\">\n",
       "  <thead>\n",
       "    <tr style=\"text-align: right;\">\n",
       "      <th></th>\n",
       "      <th>Pharmacy</th>\n",
       "      <th>Total Price</th>\n",
       "    </tr>\n",
       "  </thead>\n",
       "  <tbody>\n",
       "    <tr>\n",
       "      <th>0</th>\n",
       "      <td>Walgreens</td>\n",
       "      <td>14574.64</td>\n",
       "    </tr>\n",
       "    <tr>\n",
       "      <th>1</th>\n",
       "      <td>Target (CVS)</td>\n",
       "      <td>13785.22</td>\n",
       "    </tr>\n",
       "    <tr>\n",
       "      <th>2</th>\n",
       "      <td>Walmart</td>\n",
       "      <td>13619.74</td>\n",
       "    </tr>\n",
       "    <tr>\n",
       "      <th>3</th>\n",
       "      <td>Safeway</td>\n",
       "      <td>1641.06</td>\n",
       "    </tr>\n",
       "    <tr>\n",
       "      <th>4</th>\n",
       "      <td>Costco</td>\n",
       "      <td>12459.11</td>\n",
       "    </tr>\n",
       "    <tr>\n",
       "      <th>5</th>\n",
       "      <td>City Market</td>\n",
       "      <td>1585.28</td>\n",
       "    </tr>\n",
       "    <tr>\n",
       "      <th>6</th>\n",
       "      <td>Walmart Neighborhood Market</td>\n",
       "      <td>13564.76</td>\n",
       "    </tr>\n",
       "    <tr>\n",
       "      <th>7</th>\n",
       "      <td>King Soopers</td>\n",
       "      <td>1587.73</td>\n",
       "    </tr>\n",
       "    <tr>\n",
       "      <th>8</th>\n",
       "      <td>Hy-Vee</td>\n",
       "      <td>8327.18</td>\n",
       "    </tr>\n",
       "    <tr>\n",
       "      <th>9</th>\n",
       "      <td>Kroger Pharmacy</td>\n",
       "      <td>7249.74</td>\n",
       "    </tr>\n",
       "    <tr>\n",
       "      <th>10</th>\n",
       "      <td>Gerbes Pharmacy</td>\n",
       "      <td>7228.22</td>\n",
       "    </tr>\n",
       "  </tbody>\n",
       "</table>\n",
       "</div>"
      ],
      "text/plain": [
       "                       Pharmacy  Total Price\n",
       "0                     Walgreens     14574.64\n",
       "1                  Target (CVS)     13785.22\n",
       "2                       Walmart     13619.74\n",
       "3                       Safeway      1641.06\n",
       "4                        Costco     12459.11\n",
       "5                   City Market      1585.28\n",
       "6   Walmart Neighborhood Market     13564.76\n",
       "7                  King Soopers      1587.73\n",
       "8                        Hy-Vee      8327.18\n",
       "9               Kroger Pharmacy      7249.74\n",
       "10              Gerbes Pharmacy      7228.22"
      ]
     },
     "execution_count": 359,
     "metadata": {},
     "output_type": "execute_result"
    }
   ],
   "source": [
    "df_total"
   ]
  },
  {
   "cell_type": "code",
   "execution_count": 360,
   "metadata": {},
   "outputs": [
    {
     "data": {
      "text/html": [
       "<div>\n",
       "<style scoped>\n",
       "    .dataframe tbody tr th:only-of-type {\n",
       "        vertical-align: middle;\n",
       "    }\n",
       "\n",
       "    .dataframe tbody tr th {\n",
       "        vertical-align: top;\n",
       "    }\n",
       "\n",
       "    .dataframe thead th {\n",
       "        text-align: right;\n",
       "    }\n",
       "</style>\n",
       "<table border=\"1\" class=\"dataframe\">\n",
       "  <thead>\n",
       "    <tr style=\"text-align: right;\">\n",
       "      <th></th>\n",
       "      <th>Pharmacy</th>\n",
       "      <th>Total Price</th>\n",
       "    </tr>\n",
       "  </thead>\n",
       "  <tbody>\n",
       "    <tr>\n",
       "      <th>0</th>\n",
       "      <td>Walgreens</td>\n",
       "      <td>14574.64</td>\n",
       "    </tr>\n",
       "    <tr>\n",
       "      <th>1</th>\n",
       "      <td>Target (CVS)</td>\n",
       "      <td>13785.22</td>\n",
       "    </tr>\n",
       "    <tr>\n",
       "      <th>2</th>\n",
       "      <td>Walmart</td>\n",
       "      <td>13619.74</td>\n",
       "    </tr>\n",
       "    <tr>\n",
       "      <th>6</th>\n",
       "      <td>Walmart Neighborhood Market</td>\n",
       "      <td>13564.76</td>\n",
       "    </tr>\n",
       "    <tr>\n",
       "      <th>4</th>\n",
       "      <td>Costco</td>\n",
       "      <td>12459.11</td>\n",
       "    </tr>\n",
       "    <tr>\n",
       "      <th>8</th>\n",
       "      <td>Hy-Vee</td>\n",
       "      <td>8327.18</td>\n",
       "    </tr>\n",
       "    <tr>\n",
       "      <th>9</th>\n",
       "      <td>Kroger Pharmacy</td>\n",
       "      <td>7249.74</td>\n",
       "    </tr>\n",
       "    <tr>\n",
       "      <th>10</th>\n",
       "      <td>Gerbes Pharmacy</td>\n",
       "      <td>7228.22</td>\n",
       "    </tr>\n",
       "    <tr>\n",
       "      <th>3</th>\n",
       "      <td>Safeway</td>\n",
       "      <td>1641.06</td>\n",
       "    </tr>\n",
       "    <tr>\n",
       "      <th>7</th>\n",
       "      <td>King Soopers</td>\n",
       "      <td>1587.73</td>\n",
       "    </tr>\n",
       "    <tr>\n",
       "      <th>5</th>\n",
       "      <td>City Market</td>\n",
       "      <td>1585.28</td>\n",
       "    </tr>\n",
       "  </tbody>\n",
       "</table>\n",
       "</div>"
      ],
      "text/plain": [
       "                       Pharmacy  Total Price\n",
       "0                     Walgreens     14574.64\n",
       "1                  Target (CVS)     13785.22\n",
       "2                       Walmart     13619.74\n",
       "6   Walmart Neighborhood Market     13564.76\n",
       "4                        Costco     12459.11\n",
       "8                        Hy-Vee      8327.18\n",
       "9               Kroger Pharmacy      7249.74\n",
       "10              Gerbes Pharmacy      7228.22\n",
       "3                       Safeway      1641.06\n",
       "7                  King Soopers      1587.73\n",
       "5                   City Market      1585.28"
      ]
     },
     "execution_count": 360,
     "metadata": {},
     "output_type": "execute_result"
    }
   ],
   "source": [
    "df_total.sort_values(by='Total Price', ascending=False) #1.Walgreens 2.CVS 3.Walmart\n"
   ]
  },
  {
   "cell_type": "code",
   "execution_count": null,
   "metadata": {},
   "outputs": [],
   "source": [
    "# 4) Get the average price per Drug\n",
    "df_average = pd.DataFrame(columns=['Drug','Avg Price'])"
   ]
  },
  {
   "cell_type": "code",
   "execution_count": null,
   "metadata": {},
   "outputs": [],
   "source": [
    "for d in uniqueDrugs:\n",
    "    #print('--')\n",
    "    #print(d)\n",
    "    avg_price = 0\n",
    "    avg_price_count = 0 \n",
    "    for p in uniquePharmacies:\n",
    "\n",
    "        try:                \n",
    "            avg_df = df[(df['Drug'] == d) & (df['Pharmacy'] == p)]       \n",
    "\n",
    "            if len(avg_df['Price'].values) == 0: \n",
    "                #print('No coupon')                \n",
    "                continue\n",
    "                \n",
    "            else:\n",
    "            #print(type(new_df['Price'].values))\n",
    "                #print('Rx price')\n",
    "                #print(avg_df['Price'].item())                \n",
    "                \n",
    "                avg_price = avg_price + avg_df['Price'].item()  \n",
    "                avg_price_count +=1\n",
    "                #print(avg_price)\n",
    "                #print(avg_price_count)\n",
    "            \n",
    "        except:\n",
    "            pass \n",
    "            \n",
    "\n",
    "    #print('next')\n",
    "    try:\n",
    "        avg_price_f = avg_price/avg_price_count\n",
    "    #print('average:')\n",
    "    #print(avg_price_f)\n",
    "        df_average.loc[d] = [d,avg_price_f]\n",
    "    except:\n",
    "        pass\n"
   ]
  },
  {
   "cell_type": "code",
   "execution_count": null,
   "metadata": {},
   "outputs": [],
   "source": [
    "df_average.reset_index(drop=True, inplace = True) "
   ]
  },
  {
   "cell_type": "code",
   "execution_count": null,
   "metadata": {},
   "outputs": [
    {
     "data": {
      "text/html": [
       "<div>\n",
       "<style scoped>\n",
       "    .dataframe tbody tr th:only-of-type {\n",
       "        vertical-align: middle;\n",
       "    }\n",
       "\n",
       "    .dataframe tbody tr th {\n",
       "        vertical-align: top;\n",
       "    }\n",
       "\n",
       "    .dataframe thead th {\n",
       "        text-align: right;\n",
       "    }\n",
       "</style>\n",
       "<table border=\"1\" class=\"dataframe\">\n",
       "  <thead>\n",
       "    <tr style=\"text-align: right;\">\n",
       "      <th></th>\n",
       "      <th>Drug</th>\n",
       "      <th>Avg Price</th>\n",
       "    </tr>\n",
       "  </thead>\n",
       "  <tbody>\n",
       "    <tr>\n",
       "      <th>0</th>\n",
       "      <td>amphetamine-salt-combo</td>\n",
       "      <td>16.481111</td>\n",
       "    </tr>\n",
       "    <tr>\n",
       "      <th>1</th>\n",
       "      <td>atorvastatin</td>\n",
       "      <td>15.932222</td>\n",
       "    </tr>\n",
       "    <tr>\n",
       "      <th>2</th>\n",
       "      <td>amlodipine</td>\n",
       "      <td>12.058889</td>\n",
       "    </tr>\n",
       "    <tr>\n",
       "      <th>3</th>\n",
       "      <td>azithromycin</td>\n",
       "      <td>12.107778</td>\n",
       "    </tr>\n",
       "    <tr>\n",
       "      <th>4</th>\n",
       "      <td>amoxicillin</td>\n",
       "      <td>7.072222</td>\n",
       "    </tr>\n",
       "    <tr>\n",
       "      <th>...</th>\n",
       "      <td>...</td>\n",
       "      <td>...</td>\n",
       "    </tr>\n",
       "    <tr>\n",
       "      <th>342</th>\n",
       "      <td>zafirlukast</td>\n",
       "      <td>47.710000</td>\n",
       "    </tr>\n",
       "    <tr>\n",
       "      <th>343</th>\n",
       "      <td>zarah</td>\n",
       "      <td>37.451111</td>\n",
       "    </tr>\n",
       "    <tr>\n",
       "      <th>344</th>\n",
       "      <td>zenzedi</td>\n",
       "      <td>22.442222</td>\n",
       "    </tr>\n",
       "    <tr>\n",
       "      <th>345</th>\n",
       "      <td>zortress</td>\n",
       "      <td>1081.698889</td>\n",
       "    </tr>\n",
       "    <tr>\n",
       "      <th>346</th>\n",
       "      <td>zyprexa</td>\n",
       "      <td>36.990000</td>\n",
       "    </tr>\n",
       "  </tbody>\n",
       "</table>\n",
       "<p>347 rows × 2 columns</p>\n",
       "</div>"
      ],
      "text/plain": [
       "                       Drug    Avg Price\n",
       "0    amphetamine-salt-combo    16.481111\n",
       "1              atorvastatin    15.932222\n",
       "2                amlodipine    12.058889\n",
       "3              azithromycin    12.107778\n",
       "4               amoxicillin     7.072222\n",
       "..                      ...          ...\n",
       "342             zafirlukast    47.710000\n",
       "343                   zarah    37.451111\n",
       "344                 zenzedi    22.442222\n",
       "345                zortress  1081.698889\n",
       "346                 zyprexa    36.990000\n",
       "\n",
       "[347 rows x 2 columns]"
      ]
     },
     "execution_count": 284,
     "metadata": {},
     "output_type": "execute_result"
    }
   ],
   "source": [
    "df_average # The average price per medication"
   ]
  },
  {
   "cell_type": "code",
   "execution_count": 368,
   "metadata": {},
   "outputs": [
    {
     "name": "stdout",
     "output_type": "stream",
     "text": [
      "         Drug    Avg Price\n",
      "345  zortress  1081.698889\n",
      "        Drug  Avg Price\n",
      "166  kenalog   5.062222\n"
     ]
    }
   ],
   "source": [
    "# 5 Most expensive and least expensive drug\n",
    "print(df_average.sort_values(by='Avg Price', ascending=False).head(1)) # 1.Most: zortress\n",
    "print(df_average.sort_values(by='Avg Price', ascending=True).head(1)) # 2.Least: kenalog"
   ]
  },
  {
   "cell_type": "code",
   "execution_count": 350,
   "metadata": {},
   "outputs": [
    {
     "name": "stdout",
     "output_type": "stream",
     "text": [
      "<class 'pandas.core.frame.DataFrame'>\n",
      "RangeIndex: 12 entries, 0 to 11\n",
      "Data columns (total 2 columns):\n",
      " #   Column       Non-Null Count  Dtype  \n",
      "---  ------       --------------  -----  \n",
      " 0   Pharmacy     12 non-null     object \n",
      " 1   Total Price  12 non-null     float64\n",
      "dtypes: float64(1), object(1)\n",
      "memory usage: 320.0+ bytes\n",
      "0                       Walgreens\n",
      "1                    Target (CVS)\n",
      "2                         Walmart\n",
      "3                         Safeway\n",
      "4                    CVS Pharmacy\n",
      "5                          Costco\n",
      "6                     City Market\n",
      "7     Walmart Neighborhood Market\n",
      "8                    King Soopers\n",
      "9                          Hy-Vee\n",
      "10                Kroger Pharmacy\n",
      "11                Gerbes Pharmacy\n",
      "Name: Pharmacy, dtype: object\n",
      "0     14574.64\n",
      "1     13785.22\n",
      "2     13619.74\n",
      "3      1641.06\n",
      "4     14294.49\n",
      "5     12459.11\n",
      "6      1585.28\n",
      "7     13564.76\n",
      "8      1587.73\n",
      "9      8327.18\n",
      "10     7249.74\n",
      "11     7228.22\n",
      "Name: Total Price, dtype: float64\n"
     ]
    }
   ],
   "source": [
    "#plt.plot(df_total)\n",
    "df_total.info()\n",
    "print(df_total['Pharmacy'])\n",
    "print(df_total['Total Price'])"
   ]
  },
  {
   "cell_type": "code",
   "execution_count": 364,
   "metadata": {},
   "outputs": [
    {
     "data": {
      "image/png": "[encoded data removed]",
      "text/plain": [
       "<Figure size 432x288 with 1 Axes>"
      ]
     },
     "metadata": {
      "needs_background": "light"
     },
     "output_type": "display_data"
    }
   ],
   "source": [
    "# Data Coordinates\n",
    "\n",
    "\n",
    "x = df_total['Pharmacy']\n",
    "y = df_total['Total Price']\n",
    "\n",
    "\n",
    "# Plot\n",
    "\n",
    "plt.bar(x, y) \n",
    "\n",
    "# Add Title\n",
    "\n",
    "plt.title(\"Total value of Coupons per Pharmacy\") \n",
    "\n",
    "# Add Axes Labels\n",
    "\n",
    "\n",
    "plt.xlabel(\"Pharmacy\") \n",
    "plt.ylabel(\"$ Value of Coupon\") \n",
    "\n",
    "plt.gcf().autofmt_xdate()\n",
    "\n",
    "# Display\n",
    "\n",
    "plt.show()"
   ]
  }
 ],
 "metadata": {
  "kernelspec": {
   "display_name": "Python 3.9.13 64-bit",
   "language": "python",
   "name": "python3"
  },
  "language_info": {
   "codemirror_mode": {
    "name": "ipython",
    "version": 3
   },
   "file_extension": ".py",
   "mimetype": "text/x-python",
   "name": "python",
   "nbconvert_exporter": "python",
   "pygments_lexer": "ipython3",
   "version": "3.9.13"
  },
  "orig_nbformat": 4,
  "vscode": {
   "interpreter": {
    "hash": "397704579725e15f5c7cb49fe5f0341eb7531c82d19f2c29d197e8b64ab5776b"
   }
  }
 },
 "nbformat": 4,
 "nbformat_minor": 2
}
