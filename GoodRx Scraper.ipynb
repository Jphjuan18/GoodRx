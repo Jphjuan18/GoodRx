{
 "cells": [
  {
   "cell_type": "code",
   "execution_count": 2,
   "id": "a9bf948e",
   "metadata": {},
   "outputs": [],
   "source": [
    "import requests as req\n",
    "import pandas as pd\n",
    "import re\n",
    "from bs4 import BeautifulSoup as bs\n",
    "import string\n",
    "#from tqdm import tqdm\n",
    "import time"
   ]
  },
  {
   "cell_type": "code",
   "execution_count": 3,
   "id": "a1aaa596",
   "metadata": {},
   "outputs": [],
   "source": [
    "headers_s = {\n",
    "'authority': 'www.goodrx.com',\n",
    "'method': 'GET',\n",
    "'path': '/optimizely-edge/18262057259?url=https%3A%2F%2Fwww.goodrx.com%2Fdrugs%2Fa',\n",
    "'scheme': 'https',\n",
    "'accept': '*/*',\n",
    "'accept-encoding': 'gzip, deflate, br',\n",
    "'accept-language': 'en-US,en;q=0.9',\n",
    "'cookie': 'myrx_exp_ab_variant=experiment; myrx_exp_ab_variant=experiment; grx_unique_id=2a004c803e02427bac4eac3ce9d9c293; optimizelyEndUserId=2a004c803e02427bac4eac3ce9d9c293; isVisitedHomepage=true; grx_visit_start=1648147208; grx_sa=false; gclid=CjwKCAjwrfCRBhAXEiwAnkmKmf49NS0XrI8X4ILkuTO5GTmtMYZf6R_QO7ONQa4s-QzVGN8nhZ_6WBoCTEkQAvD_BwE; osano_consentmanager_uuid=0bb4abd9-968b-4cae-a8ca-22c6e4d1779a; osano_consentmanager=4V0Y0gJFLzPttfaFscNcaewcCwYqleVNJmMd-AsmEmu7CjzbeNNvGY1vPC_VGQ17-0SFfuFXoMS-1LJ9ybZejTneZQsRI2nDmAGoLADbiKXSXwO3eljMc42NTmM_vnMgTIA_3HMVU1PvdlkQsmzWh-ht5WxqI65jx4bG-tY8-TYxBw127lnEIMxWFLsbAcFc0QyEgLyThBYAlD_q8GmO24Mu_J5ahCIVdHzrfPNW69DAi7uzkxMP3Cc4F5PVRt0vQegAhCVxw33rLt5S60F43iIuttT__mkgyFNFAA==; __gtm_campaign_url=https://www.goodrx.com/?utm_campaign=11601593411&utm_content=114733542162&utm_source=google&utm_medium=cpc&utm_term=kwd-304031349979&gclsrc=aw.ds&gclid=CjwKCAjwrfCRBhAXEiwAnkmKmf49NS0XrI8X4ILkuTO5GTmtMYZf6R_QO7ONQa4s-QzVGN8nhZ_6WBoCTEkQAvD_BwE; grx_cm_signal=1; ajs_anonymous_id=\"2a004c803e02427bac4eac3ce9d9c293\"; gclid=CjwKCAjwrfCRBhAXEiwAnkmKmf49NS0XrI8X4ILkuTO5GTmtMYZf6R_QO7ONQa4s-QzVGN8nhZ_6WBoCTEkQAvD_BwE; pxcts=d6b947d7-aba1-11ec-b127-7a7054484365; _pxvid=d4501d79-aba1-11ec-af63-4a6f4a4d777a; _ga=GA1.2.427663771.1648147210; _gid=GA1.2.1296306263.1648147210; gdna_rid=XY2280WKxNqiqVHuqKpOyZApFXyaU3zKaipTOD-J-EG_FyJWg; __psrw=3693aacc-0236-4c80-b7fa-59eafdc858c3; __psugroup=2; _gac_UA-24914838-1=1.1648147237.CjwKCAjwrfCRBhAXEiwAnkmKmf49NS0XrI8X4ILkuTO5GTmtMYZf6R_QO7ONQa4s-QzVGN8nhZ_6WBoCTEkQAvD_BwE; csrf_token=dc1c10c205914bbf9ecc78978f37e652; client=; external_attribution_id=; c=; kw=; grx_experiment_variation=adaptive; grx_experiment_id=price_page_refresh_1_5; ppa_exp_ab_variant=experiment; _parsely_visitor={\"id\":\"pid=a52bac94618cee2e32d05aaf5408ec93\",\"session_count\":1,\"last_session_ts\":1648147259553}; __gads=ID=f00bf3152ddfc653:T=1648147261:S=ALNI_MYqTX2U3EFUnXXPbWVohdLWrijGXw; QSI_SI_4YE6UZfiQYe05DM_intercept=true; ki_u=05972acc-0e17-ae0a-1e3a-0b21; ki_s=213227:2.0.0.0.2; __gtm_referrer=https://www.google.com/; grx_experiment_data=eyJhdHRyaWJ1dGVzIjpbeyJlbnRpdHlfaWQiOiIxODkyMDY1Mzg3NyIsImtleSI6ImVudmlyb25tZW50IiwidHlwZSI6ImN1c3RvbSIsInZhbHVlIjoicHJvZCJ9XSwiZGVjaXNpb25zIjp7ImNhbXBhaWduX2lkIjoiMjEyMzMzNDMwMjgiLCJleHBlcmltZW50X2lkIjoiMjEyMTg5MTA2NjUiLCJ2YXJpYXRpb25faWQiOiIyMTI0MDc3MTkwNSJ9LCJleHBlcmltZW50S2V5IjoicHJpY2VfcGFnZV9yZWZyZXNoXzFfNSIsIm9yaWdpbmFsVXJsIjoiL2lzb21ldGhlcHRlbmUtZGljaGxvcmFscGhlbmF6b25lLWFjZXRhbWlub3BoZW4iLCJ2YXJpYXRpb24iOiJhZGFwdGl2ZSJ9; grx.hcp.dgid=Not a provider; ki_r=; _pxhd=N5EzrdpB6rA7hm27HJmUbPynioW/so7oYTDESD-af-PZkK8E2mwFicFo/XhbsP9gbV9-xWVyfsoemgVW1qvUsg==:-x0zOljIF2-SYntT3h0CW6snlnaTzgxPUc7/D9fQCpzRsIEv1-S8JdR0wM/GLTz48S6Xpv0SscTRMEVNqeVq1ByAGEJt1tImY1zEtj8eBho=; lux_uid=164825498384964607; landingCategory=34; _sess=13774391-37ff-4e92-a7be-01119813a597.a37e7ba2-9d8f-45f9-8664-ac8ed089c514.1648254986.1; dmd-vid=a37e7ba2-9d8f-45f9-8664-ac8ed089c514; dmd-sid=13774391-37ff-4e92-a7be-01119813a597; dmd-ahk=43b30bea05; dmd-signal-197-3055-0B188DA5-13774391-37ff-4e92-a7be-01119813a597=e30=; recentSearchesCWF=[{\"display\":\"cetirizine / pseudoephedrine (Generic Zyrtec-D)\",\"slug\":\"zyrtec-d\",\"type\":\"GENERIC\",\"url\":\"/zyrtec-d\"},{\"display\":\"isometheptene / dichloralphenazone / acetaminophen (Generic Epidrine Midrin)\",\"slug\":\"isometheptene-dichloralphenazone-acetaminophen\",\"type\":\"GENERIC\",\"url\":\"/isometheptene-dichloralphenazone-acetaminophen\"}]; dmd-signal-false-13774391-37ff-4e92-a7be-01119813a597=e30=; grx_location={\"location\":{\"state\":\"KS\",\"postalCode\":\"66070\",\"city\":\"ozawkie\",\"country\":\"US\"}}; _px2=eyJ1IjoiMTNhNTdjODAtYWNhMC0xMWVjLThkMzgtZmQ3NzgzNjQ4N2E4IiwidiI6ImQ0NTAxZDc5LWFiYTEtMTFlYy1hZjYzLTRhNmY0YTRkNzc3YSIsInQiOjE2NDgyNTY3MDkwNDMsImgiOiI5NTQwNzE1YTcyM2QyM2ZhZTY2MWZiODBlZmNjZGQ4ZGQ4YWMwMzE5ZGI3ZDk2MjYyOGY4NzFlNzU5NzBmZjU2In0=; ki_t=1648147211089;1648225991889;1648256407712;2;59; goodrx-v2=7dc35582596d94900a64d0061771571da77c4fd0DhqygNG8Vm/FqMuMz6Zzs4D+KiIqNdkEJuwXq9R0V3CUHBuIJMSsUw6g/6LH0boPXF7rWBTF2AAvtMAMz2bOJWUuL9ONDEjoI4X/w1PauTnWt392tWPxq55zQ8NpzQwHGQ55VaJLy2v3j4L4bua1R+6ihjhV8oAh529Bkcvs9t69fiXW4mO5roFt92WBe4amulxXIIPsrGTnXxPORcc3qINEvX0J6yuqEGmnzbDaZxbzHLf/7eI6EicfnNASiLwGSD8rR3T/pFIN2zbtuoZZSFUHDq1v/PsxXVSZOrjCEE7ni51JEupuuOTNyCjRX1Ilsxd+Dua1Tu3Lm9EfsbBnTS/UAgBbl8dvq0C/sENuyDTggtCpFJ3/heGke8R9H42twcRmjKzzMvM8UU6lDTQhm1+KiPn85MLSF8+oJAGHENR+IiezlJlvfJg8U3hygy99Z0vMGVtRTzWr/x/1E2cub1TYoRGYx6DVlI2LAmJzd1CVj/bJgP4WNWdv1Q9CIc9gwkX+PMQfpaLAcTSjgHf0T8QVpnAwtwVzrsZbRSTeBrSssSIIcfRr2K6rbhxwNoXUDfI9pT0CBHX976C1MQA/aG3exvcItZI=',\n",
    "'referer': 'https://www.goodrx.com/',\n",
    "'sec-ch-ua': '\"Not A;Brand\";v=\"99\", \"Chromium\";v=\"99\", \"Google Chrome\";v=\"99\"',\n",
    "'sec-ch-ua-mobile': '?0',\n",
    "'sec-ch-ua-platform': \"macOS\",\n",
    "'sec-fetch-dest': 'script',\n",
    "'sec-fetch-mode': 'no-cors',\n",
    "'sec-fetch-site': 'same-origin',\n",
    "'user-agent': 'Mozilla/5.0 (Macintosh; Intel Mac OS X 10_15_7) AppleWebKit/537.36 (KHTML, like Gecko) Chrome/99.0.4844.83 Safari/537.36'\n",
    "}"
   ]
  },
  {
   "cell_type": "code",
   "execution_count": 4,
   "id": "5341efc8",
   "metadata": {},
   "outputs": [],
   "source": [
    "pages_letter = list(string.ascii_lowercase)\n",
    "#pages_letter = ['y','z']"
   ]
  },
  {
   "cell_type": "code",
   "execution_count": 5,
   "id": "5de217d7",
   "metadata": {},
   "outputs": [],
   "source": [
    "main_url = 'https://www.goodrx.com/drugs/'"
   ]
  },
  {
   "cell_type": "code",
   "execution_count": 18,
   "id": "5ee24c99",
   "metadata": {},
   "outputs": [
    {
     "name": "stderr",
     "output_type": "stream",
     "text": [
      "100%|██████████| 26/26 [00:35<00:00,  1.36s/it]\n"
     ]
    }
   ],
   "source": [
    "top_rx = []\n",
    "for page in tqdm(pages_letter):\n",
    "    time.sleep(0.5)\n",
    "    res = req.get(main_url + page, headers = headers_s, allow_redirects=True)\n",
    "    #res.status_code\n",
    "    soup = bs(res.content)\n",
    "    top_rx_f = soup.find_all('span', {'class' : 'drugDisplay-1gY8X'})\n",
    "    for x in top_rx_f:\n",
    "        y = re.sub('/', \"\", x.get_text()) #[@,$,\\D], [a-zA-Z]\n",
    "        #print(y)\n",
    "        i = y.lower().split()\n",
    "        f = '-'.join(i)\n",
    "        top_rx.append(f)\n",
    "        "
   ]
  },
  {
   "cell_type": "code",
   "execution_count": 20,
   "id": "246234da",
   "metadata": {},
   "outputs": [],
   "source": [
    "#top_rx.to_excel('')\n",
    "#drugs = ['atorvastatin', 'amlodipine', 'armodafinil']\n",
    "top_drugs_grx = pd.DataFrame(top_rx, columns=['names'])"
   ]
  },
  {
   "cell_type": "code",
   "execution_count": 21,
   "id": "fefe2ba3",
   "metadata": {},
   "outputs": [
    {
     "data": {
      "text/html": [
       "<div>\n",
       "<style scoped>\n",
       "    .dataframe tbody tr th:only-of-type {\n",
       "        vertical-align: middle;\n",
       "    }\n",
       "\n",
       "    .dataframe tbody tr th {\n",
       "        vertical-align: top;\n",
       "    }\n",
       "\n",
       "    .dataframe thead th {\n",
       "        text-align: right;\n",
       "    }\n",
       "</style>\n",
       "<table border=\"1\" class=\"dataframe\">\n",
       "  <thead>\n",
       "    <tr style=\"text-align: right;\">\n",
       "      <th></th>\n",
       "      <th>names</th>\n",
       "    </tr>\n",
       "  </thead>\n",
       "  <tbody>\n",
       "    <tr>\n",
       "      <th>489</th>\n",
       "      <td>zylet</td>\n",
       "    </tr>\n",
       "    <tr>\n",
       "      <th>490</th>\n",
       "      <td>zenpep</td>\n",
       "    </tr>\n",
       "    <tr>\n",
       "      <th>491</th>\n",
       "      <td>zorvolex</td>\n",
       "    </tr>\n",
       "    <tr>\n",
       "      <th>492</th>\n",
       "      <td>zortress</td>\n",
       "    </tr>\n",
       "    <tr>\n",
       "      <th>493</th>\n",
       "      <td>zyprexa</td>\n",
       "    </tr>\n",
       "  </tbody>\n",
       "</table>\n",
       "</div>"
      ],
      "text/plain": [
       "        names\n",
       "489     zylet\n",
       "490    zenpep\n",
       "491  zorvolex\n",
       "492  zortress\n",
       "493   zyprexa"
      ]
     },
     "execution_count": 21,
     "metadata": {},
     "output_type": "execute_result"
    }
   ],
   "source": [
    "top_drugs_grx.tail()"
   ]
  },
  {
   "cell_type": "code",
   "execution_count": 75,
   "id": "4c676788",
   "metadata": {},
   "outputs": [],
   "source": [
    "top_rxs = pd.read_excel('goodrx_med_list.xlsx',index_col = 0)"
   ]
  },
  {
   "cell_type": "code",
   "execution_count": 76,
   "id": "f1d84a90",
   "metadata": {},
   "outputs": [],
   "source": [
    "top_rx = top_rxs.loc[:,'names']"
   ]
  },
  {
   "cell_type": "code",
   "execution_count": 102,
   "id": "c421bc75",
   "metadata": {},
   "outputs": [
    {
     "data": {
      "text/plain": [
       "'yaz'"
      ]
     },
     "execution_count": 102,
     "metadata": {},
     "output_type": "execute_result"
    }
   ],
   "source": [
    "top_rx.loc[470]"
   ]
  },
  {
   "cell_type": "code",
   "execution_count": 103,
   "id": "2b59ab14",
   "metadata": {},
   "outputs": [],
   "source": [
    "main_url = 'https://www.goodrx.com/drugs/'"
   ]
  },
  {
   "cell_type": "code",
   "execution_count": 7,
   "id": "b788bb91",
   "metadata": {},
   "outputs": [
    {
     "ename": "NameError",
     "evalue": "name 'top_rx' is not defined",
     "output_type": "error",
     "traceback": [
      "\u001b[0;31m---------------------------------------------------------------------------\u001b[0m",
      "\u001b[0;31mNameError\u001b[0m                                 Traceback (most recent call last)",
      "\u001b[1;32m/Users/juanhernandez/Desktop/VS Code Python/GoodRx Scraper.ipynb Cell 12'\u001b[0m in \u001b[0;36m<module>\u001b[0;34m\u001b[0m\n\u001b[1;32m      <a href='vscode-notebook-cell:/Users/juanhernandez/Desktop/VS%20Code%20Python/GoodRx%20Scraper.ipynb#ch0000011?line=2'>3</a>\u001b[0m prices_f \u001b[39m=\u001b[39m []\n\u001b[1;32m      <a href='vscode-notebook-cell:/Users/juanhernandez/Desktop/VS%20Code%20Python/GoodRx%20Scraper.ipynb#ch0000011?line=3'>4</a>\u001b[0m pharmacies_f \u001b[39m=\u001b[39m []\n\u001b[0;32m----> <a href='vscode-notebook-cell:/Users/juanhernandez/Desktop/VS%20Code%20Python/GoodRx%20Scraper.ipynb#ch0000011?line=4'>5</a>\u001b[0m \u001b[39mfor\u001b[39;00m rx \u001b[39min\u001b[39;00m (top_rx[\u001b[39m470\u001b[39m:]):\n\u001b[1;32m      <a href='vscode-notebook-cell:/Users/juanhernandez/Desktop/VS%20Code%20Python/GoodRx%20Scraper.ipynb#ch0000011?line=5'>6</a>\u001b[0m     time\u001b[39m.\u001b[39msleep(\u001b[39m0.5\u001b[39m)\n\u001b[1;32m      <a href='vscode-notebook-cell:/Users/juanhernandez/Desktop/VS%20Code%20Python/GoodRx%20Scraper.ipynb#ch0000011?line=6'>7</a>\u001b[0m     res \u001b[39m=\u001b[39m req\u001b[39m.\u001b[39mget(\u001b[39m'\u001b[39m\u001b[39mhttps://www.goodrx.com/\u001b[39m\u001b[39m'\u001b[39m \u001b[39m+\u001b[39m rx)\n",
      "\u001b[0;31mNameError\u001b[0m: name 'top_rx' is not defined"
     ]
    }
   ],
   "source": [
    "drugs_f = []\n",
    "prices_re = []\n",
    "prices_f = []\n",
    "pharmacies_f = []\n",
    "for rx in tqdm(top_rx[470:]):\n",
    "    time.sleep(0.5)\n",
    "    res = req.get('https://www.goodrx.com/' + rx)\n",
    "    #print('\\n' + rx)    \n",
    "    soup = bs(res.content, 'html.parser')\n",
    "    \n",
    "    pharmacies = soup.find_all('span', {'class' : 'goldAddUnderline-3T_sh'})\n",
    "    for pharm in pharmacies:\n",
    "        pharmacies_f.append(pharm.get_text())\n",
    "        drugs_f.append(rx)\n",
    "    \n",
    "    prices_grx = soup.find_all('div', {'class' : 'display-2N4dk'})\n",
    "    for x in prices_grx:\n",
    "        i = x.get_text()\n",
    "        y = i.split()\n",
    "        #prices_f.append(re.sub('[a-zA-Z]', \"\", y[-1])) #[@,$,\\D]\n",
    "        f = re.sub('[,$a-zA-Z]', \"\", y[-1])\n",
    "        l = len(f)\n",
    "        prices_f.append(float(f[:l-1]))"
   ]
  },
  {
   "cell_type": "code",
   "execution_count": 105,
   "id": "472fa862",
   "metadata": {},
   "outputs": [
    {
     "name": "stdout",
     "output_type": "stream",
     "text": [
      "126\n",
      "126\n",
      "126\n"
     ]
    }
   ],
   "source": [
    "print(len(drugs_f))\n",
    "print(len(pharmacies_f))\n",
    "print(len(prices_f))\n",
    "#old was 886"
   ]
  },
  {
   "cell_type": "code",
   "execution_count": 94,
   "id": "7c164807",
   "metadata": {},
   "outputs": [
    {
     "data": {
      "text/plain": [
       "'Costco'"
      ]
     },
     "execution_count": 94,
     "metadata": {},
     "output_type": "execute_result"
    }
   ],
   "source": [
    "#pharmacies_f.pop()"
   ]
  },
  {
   "cell_type": "code",
   "execution_count": 107,
   "id": "4582f5bf",
   "metadata": {},
   "outputs": [
    {
     "name": "stdout",
     "output_type": "stream",
     "text": [
      "['yaz', 'yaz', 'yaz', 'yaz', 'yaz', 'yaz', 'yaz', 'yaz', 'yaz', 'yasmin', 'yasmin', 'yasmin', 'yasmin', 'yasmin', 'yasmin', 'yasmin', 'yasmin', 'yasmin', 'yosprala', 'yosprala', 'yosprala', 'yosprala', 'yosprala', 'yosprala', 'yosprala', 'yosprala', 'yosprala', 'zolpidem', 'zolpidem', 'zolpidem', 'zolpidem', 'zolpidem', 'zolpidem', 'zolpidem', 'zolpidem', 'zolpidem', 'zolpidem-er', 'zolpidem-er', 'zolpidem-er', 'zolpidem-er', 'zolpidem-er', 'zolpidem-er', 'zolpidem-er', 'zolpidem-er', 'zolpidem-er', 'zonisamide', 'zonisamide', 'zonisamide', 'zonisamide', 'zonisamide', 'zonisamide', 'zonisamide', 'zonisamide', 'zonisamide', 'ziprasidone', 'ziprasidone', 'ziprasidone', 'ziprasidone', 'ziprasidone', 'ziprasidone', 'ziprasidone', 'ziprasidone', 'ziprasidone', 'zaleplon', 'zaleplon', 'zaleplon', 'zaleplon', 'zaleplon', 'zaleplon', 'zaleplon', 'zaleplon', 'zaleplon', 'zyrtec-d', 'zyrtec-d', 'zyrtec-d', 'zyrtec-d', 'zyrtec-d', 'zyrtec-d', 'zyrtec-d', 'zyrtec-d', 'zyrtec-d', 'zafirlukast', 'zafirlukast', 'zafirlukast', 'zafirlukast', 'zafirlukast', 'zafirlukast', 'zafirlukast', 'zafirlukast', 'zafirlukast', 'zarah', 'zarah', 'zarah', 'zarah', 'zarah', 'zarah', 'zarah', 'zarah', 'zarah', 'zenzedi', 'zenzedi', 'zenzedi', 'zenzedi', 'zenzedi', 'zenzedi', 'zenzedi', 'zenzedi', 'zenzedi', 'zortress', 'zortress', 'zortress', 'zortress', 'zortress', 'zortress', 'zortress', 'zortress', 'zortress', 'zyprexa', 'zyprexa', 'zyprexa', 'zyprexa', 'zyprexa', 'zyprexa', 'zyprexa', 'zyprexa', 'zyprexa']\n"
     ]
    }
   ],
   "source": [
    "print(drugs_f)"
   ]
  },
  {
   "cell_type": "code",
   "execution_count": 106,
   "id": "eae608d4",
   "metadata": {},
   "outputs": [],
   "source": [
    "subs = {'Drug': [], 'Pharmacy':[],'Price':[]}"
   ]
  },
  {
   "cell_type": "code",
   "execution_count": 108,
   "id": "c608d464",
   "metadata": {},
   "outputs": [],
   "source": [
    "subs['Drug'] = drugs_f\n",
    "subs['Pharmacy'] = pharmacies_f\n",
    "subs['Price'] = prices_f"
   ]
  },
  {
   "cell_type": "code",
   "execution_count": 109,
   "id": "177fb404",
   "metadata": {},
   "outputs": [],
   "source": [
    "sub_df = pd.DataFrame(subs, columns=['Drug','Pharmacy','Price'])"
   ]
  },
  {
   "cell_type": "code",
   "execution_count": 110,
   "id": "d2038c85",
   "metadata": {},
   "outputs": [
    {
     "data": {
      "text/html": [
       "<div>\n",
       "<style scoped>\n",
       "    .dataframe tbody tr th:only-of-type {\n",
       "        vertical-align: middle;\n",
       "    }\n",
       "\n",
       "    .dataframe tbody tr th {\n",
       "        vertical-align: top;\n",
       "    }\n",
       "\n",
       "    .dataframe thead th {\n",
       "        text-align: right;\n",
       "    }\n",
       "</style>\n",
       "<table border=\"1\" class=\"dataframe\">\n",
       "  <thead>\n",
       "    <tr style=\"text-align: right;\">\n",
       "      <th></th>\n",
       "      <th>Drug</th>\n",
       "      <th>Pharmacy</th>\n",
       "      <th>Price</th>\n",
       "    </tr>\n",
       "  </thead>\n",
       "  <tbody>\n",
       "    <tr>\n",
       "      <th>0</th>\n",
       "      <td>yaz</td>\n",
       "      <td>CVS Pharmacy</td>\n",
       "      <td>21.95</td>\n",
       "    </tr>\n",
       "    <tr>\n",
       "      <th>1</th>\n",
       "      <td>yaz</td>\n",
       "      <td>Walgreens</td>\n",
       "      <td>27.56</td>\n",
       "    </tr>\n",
       "    <tr>\n",
       "      <th>2</th>\n",
       "      <td>yaz</td>\n",
       "      <td>Hy-Vee</td>\n",
       "      <td>16.94</td>\n",
       "    </tr>\n",
       "    <tr>\n",
       "      <th>3</th>\n",
       "      <td>yaz</td>\n",
       "      <td>Costco</td>\n",
       "      <td>16.89</td>\n",
       "    </tr>\n",
       "    <tr>\n",
       "      <th>4</th>\n",
       "      <td>yaz</td>\n",
       "      <td>Walmart</td>\n",
       "      <td>23.37</td>\n",
       "    </tr>\n",
       "    <tr>\n",
       "      <th>...</th>\n",
       "      <td>...</td>\n",
       "      <td>...</td>\n",
       "      <td>...</td>\n",
       "    </tr>\n",
       "    <tr>\n",
       "      <th>121</th>\n",
       "      <td>zyprexa</td>\n",
       "      <td>Walmart</td>\n",
       "      <td>9.00</td>\n",
       "    </tr>\n",
       "    <tr>\n",
       "      <th>122</th>\n",
       "      <td>zyprexa</td>\n",
       "      <td>Kroger Pharmacy</td>\n",
       "      <td>11.25</td>\n",
       "    </tr>\n",
       "    <tr>\n",
       "      <th>123</th>\n",
       "      <td>zyprexa</td>\n",
       "      <td>Target (CVS)</td>\n",
       "      <td>80.20</td>\n",
       "    </tr>\n",
       "    <tr>\n",
       "      <th>124</th>\n",
       "      <td>zyprexa</td>\n",
       "      <td>Walmart Neighborhood Market</td>\n",
       "      <td>9.00</td>\n",
       "    </tr>\n",
       "    <tr>\n",
       "      <th>125</th>\n",
       "      <td>zyprexa</td>\n",
       "      <td>Gerbes Pharmacy</td>\n",
       "      <td>11.25</td>\n",
       "    </tr>\n",
       "  </tbody>\n",
       "</table>\n",
       "<p>126 rows × 3 columns</p>\n",
       "</div>"
      ],
      "text/plain": [
       "        Drug                     Pharmacy  Price\n",
       "0        yaz                 CVS Pharmacy  21.95\n",
       "1        yaz                    Walgreens  27.56\n",
       "2        yaz                       Hy-Vee  16.94\n",
       "3        yaz                       Costco  16.89\n",
       "4        yaz                      Walmart  23.37\n",
       "..       ...                          ...    ...\n",
       "121  zyprexa                      Walmart   9.00\n",
       "122  zyprexa              Kroger Pharmacy  11.25\n",
       "123  zyprexa                 Target (CVS)  80.20\n",
       "124  zyprexa  Walmart Neighborhood Market   9.00\n",
       "125  zyprexa              Gerbes Pharmacy  11.25\n",
       "\n",
       "[126 rows x 3 columns]"
      ]
     },
     "execution_count": 110,
     "metadata": {},
     "output_type": "execute_result"
    }
   ],
   "source": [
    "sub_df"
   ]
  },
  {
   "cell_type": "code",
   "execution_count": 111,
   "id": "659ded44",
   "metadata": {},
   "outputs": [],
   "source": [
    "sub_df.to_excel(\"yaz_to_zyprexa.xlsx\")"
   ]
  },
  {
   "cell_type": "code",
   "execution_count": null,
   "id": "1a9cba4d",
   "metadata": {},
   "outputs": [],
   "source": [
    "stop"
   ]
  },
  {
   "cell_type": "code",
   "execution_count": null,
   "id": "42ce1416",
   "metadata": {},
   "outputs": [],
   "source": [
    "for p in range(0,len(pharmacies)):\n",
    "        print(prices[p])\n",
    "        print(pharmacies[p].get_text())\n",
    "        #print('\\n')\n"
   ]
  },
  {
   "cell_type": "code",
   "execution_count": null,
   "id": "50f8c232",
   "metadata": {},
   "outputs": [],
   "source": [
    "for x in drugs:\n",
    "    res = req.get('https://www.goodrx.com/' + x)\n",
    "    "
   ]
  },
  {
   "cell_type": "code",
   "execution_count": 8,
   "id": "389a81fb",
   "metadata": {},
   "outputs": [
    {
     "ename": "NameError",
     "evalue": "name 'res' is not defined",
     "output_type": "error",
     "traceback": [
      "\u001b[0;31m---------------------------------------------------------------------------\u001b[0m",
      "\u001b[0;31mNameError\u001b[0m                                 Traceback (most recent call last)",
      "\u001b[1;32m/Users/juanhernandez/Desktop/VS Code Python/GoodRx Scraper.ipynb Cell 24'\u001b[0m in \u001b[0;36m<module>\u001b[0;34m\u001b[0m\n\u001b[0;32m----> <a href='vscode-notebook-cell:/Users/juanhernandez/Desktop/VS%20Code%20Python/GoodRx%20Scraper.ipynb#ch0000023?line=0'>1</a>\u001b[0m soup \u001b[39m=\u001b[39m bs(res\u001b[39m.\u001b[39mcontent, \u001b[39m'\u001b[39m\u001b[39mhtml.parser\u001b[39m\u001b[39m'\u001b[39m)\n\u001b[1;32m      <a href='vscode-notebook-cell:/Users/juanhernandez/Desktop/VS%20Code%20Python/GoodRx%20Scraper.ipynb#ch0000023?line=1'>2</a>\u001b[0m \u001b[39mprint\u001b[39m(soup)\n",
      "\u001b[0;31mNameError\u001b[0m: name 'res' is not defined"
     ]
    }
   ],
   "source": [
    "soup = bs(res.content, 'html.parser')\n"
   ]
  },
  {
   "cell_type": "code",
   "execution_count": null,
   "id": "b9a9f701",
   "metadata": {},
   "outputs": [],
   "source": [
    "prices_grx = soup.find_all('div', {'class' : 'display-2N4dk'})"
   ]
  },
  {
   "cell_type": "code",
   "execution_count": null,
   "id": "7b786cd7",
   "metadata": {},
   "outputs": [],
   "source": [
    "prices_filter = []\n",
    "prices = []"
   ]
  },
  {
   "cell_type": "code",
   "execution_count": null,
   "id": "eb4bc277",
   "metadata": {},
   "outputs": [],
   "source": [
    "for x in prices_grx:\n",
    "    i = x.get_text()\n",
    "    y = i.split()\n",
    "\n",
    "    #print(\"\\n\" + i)\n",
    "    prices_filter.append(re.sub('[a-zA-Z]', \"\", y[-1])) #[@,$,\\D]\n",
    "    "
   ]
  },
  {
   "cell_type": "code",
   "execution_count": null,
   "id": "e1668482",
   "metadata": {},
   "outputs": [],
   "source": [
    "for x in prices_filter:\n",
    "    l = len(x)\n",
    "    prices.append(x[:l-1])"
   ]
  },
  {
   "cell_type": "code",
   "execution_count": null,
   "id": "9e492c53",
   "metadata": {},
   "outputs": [],
   "source": [
    "for x in range(0,len(prices)):\n",
    "    print(prices[x])"
   ]
  },
  {
   "cell_type": "code",
   "execution_count": null,
   "id": "f3ec3c8a",
   "metadata": {},
   "outputs": [],
   "source": [
    "pharmacies = soup.find_all('span', {'class' : 'goldAddUnderline-3T_sh'})"
   ]
  },
  {
   "cell_type": "code",
   "execution_count": null,
   "id": "8b072111",
   "metadata": {},
   "outputs": [],
   "source": [
    "for x in range(0,len(pharmacies)):\n",
    "    print(pharmacies[x].get_text())\n",
    "    "
   ]
  }
 ],
 "metadata": {
  "interpreter": {
   "hash": "aee8b7b246df8f9039afb4144a1f6fd8d2ca17a180786b69acc140d282b71a49"
  },
  "kernelspec": {
   "display_name": "Python 3.9.12 64-bit",
   "language": "python",
   "name": "python3"
  },
  "language_info": {
   "codemirror_mode": {
    "name": "ipython",
    "version": 3
   },
   "file_extension": ".py",
   "mimetype": "text/x-python",
   "name": "python",
   "nbconvert_exporter": "python",
   "pygments_lexer": "ipython3",
   "version": "3.9.12"
  }
 },
 "nbformat": 4,
 "nbformat_minor": 5
}
